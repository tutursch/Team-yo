{
 "cells": [
  {
   "cell_type": "code",
   "execution_count": 1,
   "id": "1d45b0b0",
   "metadata": {},
   "outputs": [],
   "source": [
    "\n",
    "import tdmclient.notebook\n",
    "await tdmclient.notebook.start()\n",
    "from test import *\n"
   ]
  },
  {
   "cell_type": "code",
   "execution_count": 2,
   "id": "64b3f039",
   "metadata": {},
   "outputs": [
    {
     "name": "stdout",
     "output_type": "stream",
     "text": [
      "coucou\n"
     ]
    }
   ],
   "source": [
    "printing()"
   ]
  },
  {
   "cell_type": "code",
   "execution_count": null,
   "id": "167e1978",
   "metadata": {},
   "outputs": [],
   "source": [
    "%%run_python --wait\n",
    "\n",
    "@onevent \n",
    "def button_right():\n",
    "    global motor_left_target, motor_right_target\n",
    "    print('salut')\n",
    "    motor_left_target = 100\n",
    "    motor_right_target = -100"
   ]
  },
  {
   "cell_type": "code",
   "execution_count": null,
   "id": "ee8fc672",
   "metadata": {},
   "outputs": [],
   "source": []
  }
 ],
 "metadata": {
  "kernelspec": {
   "display_name": "Python 3",
   "language": "python",
   "name": "python3"
  },
  "language_info": {
   "codemirror_mode": {
    "name": "ipython",
    "version": 3
   },
   "file_extension": ".py",
   "mimetype": "text/x-python",
   "name": "python",
   "nbconvert_exporter": "python",
   "pygments_lexer": "ipython3",
   "version": "3.8.8"
  }
 },
 "nbformat": 4,
 "nbformat_minor": 5
}
