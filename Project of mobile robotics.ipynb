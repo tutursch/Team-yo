{
 "cells": [
  {
   "cell_type": "code",
   "execution_count": 1,
   "id": "1d45b0b0",
   "metadata": {},
   "outputs": [],
   "source": [
    "import tdmclient.notebook\n",
    "await tdmclient.notebook.start()\n",
    "from tdmclient import ClientAsync, aw\n",
    "client = ClientAsync()\n",
    "client.process_waiting_messages()\n",
    "node = await client.wait_for_node()\n",
    "aw(node.run())\n",
    "aw(node.stop())\n",
    "aw(node.set_scratchpad(\"Hello, Studio!\"))\n",
    "aw(node.unlock())\n",
    "\n",
    "import time\n",
    "from aled import  *\n",
    "from l42 import *\n"
   ]
  },
  {
   "cell_type": "code",
   "execution_count": null,
   "id": "64b3f039",
   "metadata": {},
   "outputs": [
    {
     "name": "stdout",
     "output_type": "stream",
     "text": [
      "[0, 0, 0, 0, 0, 0, 0]\n",
      "[0, 0, 0, 0, 0, 0, 0]\n",
      "[0, 0, 0, 0, 0, 0, 0]\n",
      "[0, 0, 0, 0, 0, 0, 0]\n",
      "[0, 0, 0, 0, 0, 0, 0]\n",
      "[4159, 3658, 2764, 2821, 0, 0, 0]\n",
      "[4634, 3595, 4414, 3745, 0, 0, 0]\n",
      "[4682, 3959, 4205, 3850, 0, 0, 0]\n",
      "[0, 0, 0, 0, 0, 0, 0]\n",
      "[0, 0, 0, 0, 0, 0, 0]\n",
      "[0, 0, 0, 0, 0, 0, 0]\n",
      "[0, 0, 0, 0, 0, 0, 0]\n",
      "[0, 0, 0, 0, 0, 0, 0]\n"
     ]
    }
   ],
   "source": [
    "initial_corners = init_corner()\n",
    "\n",
    "@tdmclient.notebook.sync_var\n",
    "def get_prox_value():\n",
    "    return prox_horizontal\n",
    "\n",
    "@tdmclient.notebook.sync_var\n",
    "def get_ground_value():\n",
    "    return prox_ground_reflected\n",
    "\n",
    "@tdmclient.notebook.sync_var\n",
    "def get_motors_speed():\n",
    "    global motor_left_target, motor_right_target\n",
    "    return motor_left_target, motor_right_target\n",
    "\n",
    "\n",
    "@tdmclient.notebook.sync_var\n",
    "def set_motor_speed(right_speed, left_speed):\n",
    "    global motor_left_target, motor_right_target\n",
    "    motor_left_target = left_speed\n",
    "    motor_right_target = right_speed\n",
    "\n",
    "\n",
    "while(True): \n",
    "    #copy the states of the robot   \n",
    "    prox_horiz_values = get_prox_value()\n",
    "    prox_ground_values = get_ground_value()\n",
    "    set_motor_speed(0, 0)\n",
    "    motors_speeds = get_motors_speed()\n",
    "        \n",
    "    #open camera and update of the KF + color detection    \n",
    "    if(not open_cam()):\n",
    "        break\n",
    "    await client.sleep(0.2)\n",
    "\n",
    "\n"
   ]
  },
  {
   "cell_type": "code",
   "execution_count": null,
   "id": "167e1978",
   "metadata": {},
   "outputs": [],
   "source": [
    "\n"
   ]
  },
  {
   "cell_type": "code",
   "execution_count": null,
   "id": "ee8fc672",
   "metadata": {},
   "outputs": [],
   "source": [
    "await tdmclient.notebook.stop()"
   ]
  }
 ],
 "metadata": {
  "kernelspec": {
   "display_name": "Python 3 (ipykernel)",
   "language": "python",
   "name": "python3"
  },
  "language_info": {
   "codemirror_mode": {
    "name": "ipython",
    "version": 3
   },
   "file_extension": ".py",
   "mimetype": "text/x-python",
   "name": "python",
   "nbconvert_exporter": "python",
   "pygments_lexer": "ipython3",
   "version": "3.9.7"
  }
 },
 "nbformat": 4,
 "nbformat_minor": 5
}
