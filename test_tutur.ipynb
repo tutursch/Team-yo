{
 "cells": [
  {
   "cell_type": "code",
   "execution_count": 11,
   "id": "4e35a8e1",
   "metadata": {},
   "outputs": [],
   "source": [
    "import tdmclient.notebook\n",
    "await tdmclient.notebook.start()"
   ]
  },
  {
   "cell_type": "code",
   "execution_count": 4,
   "id": "9ced832c",
   "metadata": {},
   "outputs": [],
   "source": [
    "import numpy as np\n",
    "import math"
   ]
  },
  {
   "cell_type": "code",
   "execution_count": 1,
   "id": "6fc81be3",
   "metadata": {},
   "outputs": [],
   "source": [
    "def calculation_distance_and_angle(position_thymio, position_goal):\n",
    "    t_x = position_thymio[0]\n",
    "    t_y = position_thymio[1]\n",
    "    g_x = position_goal[0]\n",
    "    g_y = position_goal[1]\n",
    "    distance = np.around(np.sqrt(np.power(t_x - g_x, 2) + np.power(t_y - g_y, 2)), 3)\n",
    "    angle = np.around(np.arctan((position_goal[1] - position_thymio[1]) / (position_goal[0] - position_thymio[0])), 3)\n",
    "    return distance, angle"
   ]
  },
  {
   "cell_type": "code",
   "execution_count": 10,
   "id": "2bc7db48",
   "metadata": {},
   "outputs": [],
   "source": [
    "def control_rotation(thymio_angle, wished_angle, previous_error_angle):\n",
    "    error_angle = wished_angle - thymio_angle\n",
    "    delta_error_angle = error_angle - previous_error_angle \n",
    "    kp = 10 \n",
    "    kd = 5\n",
    "    v_rot = np.around(kp * error_angle + kd * delta_error_angle, 1)\n",
    "    return v_rot, error_angle"
   ]
  },
  {
   "cell_type": "code",
   "execution_count": 26,
   "id": "42213ec9",
   "metadata": {},
   "outputs": [
    {
     "name": "stdout",
     "output_type": "stream",
     "text": [
      "Distance =  7.81\n",
      "Thymio angle =  1.0471975511965976\n",
      "Wished angle = 0.876\n",
      "Error angle =  -0.17119755119659763\n",
      "Speed left =  91.0\n",
      "Speed right =  109.0\n"
     ]
    }
   ],
   "source": [
    "v_constant = 100\n",
    "position_thymio = [1, 2]\n",
    "position_goal = [6, 8]\n",
    "thymio_angle = np.pi / 3\n",
    "previous_error_angle = - 0.34\n",
    "distance, wished_angle = calculation_distance_and_angle(position_thymio, position_goal)\n",
    "v_rot, previous_error_angle = control_rotation(thymio_angle, wished_angle, previous_error_angle)\n",
    "v_tot_left = v_constant + 10 * v_rot\n",
    "v_tot_right = v_constant - 10 * v_rot\n",
    "print('Distance = ',distance)\n",
    "print('Thymio angle = ', thymio_angle)\n",
    "print('Wished angle =', wished_angle)\n",
    "print('Error angle = ', previous_error_angle)\n",
    "print('Speed left = ', v_tot_left)\n",
    "print('Speed right = ', v_tot_right)"
   ]
  },
  {
   "cell_type": "code",
   "execution_count": 3,
   "id": "03dba1b7",
   "metadata": {},
   "outputs": [],
   "source": [
    "timer_period[0] = 1000\n",
    "\n",
    "motor_left_target = 100\n",
    "motor_right_target = 100\n",
    "\n",
    "def timer0():\n",
    "    global motor_left_target, motor_right_target\n",
    "    motor_left_target = 0\n",
    "    motor_right_target = 0"
   ]
  },
  {
   "cell_type": "code",
   "execution_count": 6,
   "id": "7ed167e5",
   "metadata": {},
   "outputs": [],
   "source": [
    "motor_left_target = 200\n",
    "motor_right_target = 200"
   ]
  },
  {
   "cell_type": "code",
   "execution_count": 3,
   "id": "c90f8a57",
   "metadata": {},
   "outputs": [],
   "source": [
    "def go_next_point(next_point, position, direction):\n",
    "    vect = next_point - position\n",
    "    norm = np.linalg.norm(vect)\n",
    "    angle = math.acos(vect[0] / norm)\n",
    "    if (vect[1] < 0):\n",
    "        angle = - angle\n",
    "    delta_angle = angle - direction\n",
    "    if (delta_angle > math.pi):\n",
    "        delta_angle = delta_angle - math.pi\n",
    "    time_left_rotation = - angle * coeff_angle\n",
    "    time_right_rotation = angle * coeff_angle\n",
    "    time_distance = norm * coeff_distance\n",
    "    return time_left_rotation, time_right_rotation, time_distance"
   ]
  },
  {
   "cell_type": "code",
   "execution_count": 4,
   "id": "12fcb9be",
   "metadata": {},
   "outputs": [
    {
     "ename": "NameError",
     "evalue": "name 'coeff_angle' is not defined",
     "output_type": "error",
     "traceback": [
      "\u001b[1;31m---------------------------------------------------------------------------\u001b[0m",
      "\u001b[1;31mNameError\u001b[0m                                 Traceback (most recent call last)",
      "\u001b[1;32m~\\AppData\\Local\\Temp/ipykernel_9920/1152469717.py\u001b[0m in \u001b[0;36m<module>\u001b[1;34m\u001b[0m\n\u001b[0;32m      3\u001b[0m \u001b[0mdirection\u001b[0m \u001b[1;33m=\u001b[0m \u001b[1;36m0.52\u001b[0m\u001b[1;33m\u001b[0m\u001b[1;33m\u001b[0m\u001b[0m\n\u001b[0;32m      4\u001b[0m \u001b[1;33m\u001b[0m\u001b[0m\n\u001b[1;32m----> 5\u001b[1;33m \u001b[0mvect\u001b[0m \u001b[1;33m=\u001b[0m \u001b[0mgo_next_point\u001b[0m \u001b[1;33m(\u001b[0m\u001b[0mnext_point\u001b[0m\u001b[1;33m,\u001b[0m \u001b[0mposition\u001b[0m\u001b[1;33m,\u001b[0m \u001b[0mdirection\u001b[0m\u001b[1;33m)\u001b[0m\u001b[1;33m\u001b[0m\u001b[1;33m\u001b[0m\u001b[0m\n\u001b[0m\u001b[0;32m      6\u001b[0m \u001b[0mprint\u001b[0m\u001b[1;33m(\u001b[0m\u001b[0mvect\u001b[0m\u001b[1;33m)\u001b[0m\u001b[1;33m\u001b[0m\u001b[1;33m\u001b[0m\u001b[0m\n",
      "\u001b[1;32m~\\AppData\\Local\\Temp/ipykernel_9920/3974397751.py\u001b[0m in \u001b[0;36mgo_next_point\u001b[1;34m(next_point, position, direction)\u001b[0m\n\u001b[0;32m      8\u001b[0m     \u001b[1;32mif\u001b[0m \u001b[1;33m(\u001b[0m\u001b[0mdelta_angle\u001b[0m \u001b[1;33m>\u001b[0m \u001b[0mmath\u001b[0m\u001b[1;33m.\u001b[0m\u001b[0mpi\u001b[0m\u001b[1;33m)\u001b[0m\u001b[1;33m:\u001b[0m\u001b[1;33m\u001b[0m\u001b[1;33m\u001b[0m\u001b[0m\n\u001b[0;32m      9\u001b[0m         \u001b[0mdelta_angle\u001b[0m \u001b[1;33m=\u001b[0m \u001b[0mdelta_angle\u001b[0m \u001b[1;33m-\u001b[0m \u001b[0mmath\u001b[0m\u001b[1;33m.\u001b[0m\u001b[0mpi\u001b[0m\u001b[1;33m\u001b[0m\u001b[1;33m\u001b[0m\u001b[0m\n\u001b[1;32m---> 10\u001b[1;33m     \u001b[0mtime_left_rotation\u001b[0m \u001b[1;33m=\u001b[0m \u001b[1;33m-\u001b[0m \u001b[0mangle\u001b[0m \u001b[1;33m*\u001b[0m \u001b[0mcoeff_angle\u001b[0m\u001b[1;33m\u001b[0m\u001b[1;33m\u001b[0m\u001b[0m\n\u001b[0m\u001b[0;32m     11\u001b[0m     \u001b[0mtime_right_rotation\u001b[0m \u001b[1;33m=\u001b[0m \u001b[0mangle\u001b[0m \u001b[1;33m*\u001b[0m \u001b[0mcoeff_angle\u001b[0m\u001b[1;33m\u001b[0m\u001b[1;33m\u001b[0m\u001b[0m\n\u001b[0;32m     12\u001b[0m     \u001b[0mtime_distance\u001b[0m \u001b[1;33m=\u001b[0m \u001b[0mnorm\u001b[0m \u001b[1;33m*\u001b[0m \u001b[0mcoeff_distance\u001b[0m\u001b[1;33m\u001b[0m\u001b[1;33m\u001b[0m\u001b[0m\n",
      "\u001b[1;31mNameError\u001b[0m: name 'coeff_angle' is not defined"
     ]
    }
   ],
   "source": [
    "next_point = np.array([3, -5])\n",
    "position = ([0, 0])\n",
    "direction = 0.52\n",
    "\n",
    "vect = go_next_point (next_point, position, direction)\n",
    "print(vect)"
   ]
  },
  {
   "cell_type": "code",
   "execution_count": null,
   "id": "2c15cd09",
   "metadata": {},
   "outputs": [],
   "source": []
  }
 ],
 "metadata": {
  "kernelspec": {
   "display_name": "Python 3 (ipykernel)",
   "language": "python",
   "name": "python3"
  },
  "language_info": {
   "codemirror_mode": {
    "name": "ipython",
    "version": 3
   },
   "file_extension": ".py",
   "mimetype": "text/x-python",
   "name": "python",
   "nbconvert_exporter": "python",
   "pygments_lexer": "ipython3",
   "version": "3.9.7"
  }
 },
 "nbformat": 4,
 "nbformat_minor": 5
}
